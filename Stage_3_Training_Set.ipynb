{
 "cells": [
  {
   "cell_type": "markdown",
   "source": [
    "## Generating Training Sets for Stage 3 - \n",
    "\n",
    "Fixed: Diameter (0.4 m), Depth Increments (0.01 m)\n",
    "\n",
    "Variables (Inputs) : CPTu Dataset, Minimum Required Bearing Capacity \n",
    "\n",
    "Output: Optimised Length - Minimum Length to Give Required Capcity"
   ],
   "metadata": {
    "collapsed": false
   },
   "id": "80ef2e07d9f9f108"
  },
  {
   "cell_type": "code",
   "outputs": [
    {
     "name": "stdout",
     "output_type": "stream",
     "text": [
      "CUDA available: True\n",
      "Number of GPUs available: 1\n",
      "GPU 0: NVIDIA GeForce RTX 2060\n"
     ]
    }
   ],
   "source": [
    "import torch\n",
    "from Functions_CPTu_Cap_Copy import *\n",
    "from itertools import product\n",
    "\n",
    "# Check if CUDA is available\n",
    "cuda_available = torch.cuda.is_available()\n",
    "print(f\"CUDA available: {cuda_available}\")\n",
    "\n",
    "# If CUDA is available, print out the number of CUDA devices and their names\n",
    "if cuda_available:\n",
    "    print(f\"Number of GPUs available: {torch.cuda.device_count()}\")\n",
    "    for i in range(torch.cuda.device_count()):\n",
    "        print(f\"GPU {i}: {torch.cuda.get_device_name(i)}\")\n",
    "else:\n",
    "    print(\"No GPUs detected.\")"
   ],
   "metadata": {
    "collapsed": false,
    "ExecuteTime": {
     "end_time": "2024-05-07T13:32:04.965778Z",
     "start_time": "2024-05-07T13:32:01.804902Z"
    }
   },
   "id": "4de3b98e7348c21c",
   "execution_count": 1
  },
  {
   "cell_type": "markdown",
   "source": [
    "## Importing CPTu Data"
   ],
   "metadata": {
    "collapsed": false
   },
   "id": "255d61b9e00726ab"
  },
  {
   "cell_type": "code",
   "outputs": [
    {
     "name": "stdout",
     "output_type": "stream",
     "text": [
      "(3081, 12)\n",
      "<class 'pandas.core.frame.DataFrame'>\n",
      "3\n"
     ]
    }
   ],
   "source": [
    "import pandas as pd\n",
    "import numpy as np\n",
    "## \n",
    "# \n",
    "# CPTu_data = pd.read_csv('CPTu_train_set.csv', header=None, skiprows=1)\n",
    "CPTu_data = pd.read_csv('CPTu_val_set.csv', header=None, skiprows=1)\n",
    "# CPTu_data = pd.read_csv('CPTu_test_set.csv', header=None, skiprows=1)\n",
    "\n",
    "print(np.shape(CPTu_data))\n",
    "print(type(CPTu_data))\n",
    "print(CPTu_data.shape[1] // 4)"
   ],
   "metadata": {
    "collapsed": false,
    "ExecuteTime": {
     "end_time": "2024-05-07T13:32:04.995931Z",
     "start_time": "2024-05-07T13:32:04.966775Z"
    }
   },
   "id": "810491ef8fa29388",
   "execution_count": 2
  },
  {
   "cell_type": "markdown",
   "source": [
    "## Creating Length and Required Bearing Capacity Inputs"
   ],
   "metadata": {
    "collapsed": false
   },
   "id": "ab632de110177f02"
  },
  {
   "cell_type": "code",
   "outputs": [
    {
     "name": "stdout",
     "output_type": "stream",
     "text": [
      "(43,)\n"
     ]
    }
   ],
   "source": [
    "l = np.arange(0.1, 30.81, 0.1)\n",
    "RBC = np.arange(50, 2200, 50)\n",
    "# b = np.arange(0.4, 1.6, 0.2)\n",
    "\n",
    "b = 0.8\n",
    "\n",
    "print(np.shape(RBC))\n",
    "# zip = list(product(b, RBC))\n",
    "# print((zip[:50]))\n",
    "# print(zip[10][1])\n",
    "# print(len(zip))"
   ],
   "metadata": {
    "collapsed": false,
    "ExecuteTime": {
     "end_time": "2024-05-07T13:32:05.056981Z",
     "start_time": "2024-05-07T13:32:04.997776Z"
    }
   },
   "id": "6ff99f6fac99a192",
   "execution_count": 3
  },
  {
   "cell_type": "markdown",
   "source": [
    "## Implementing Training Loop"
   ],
   "metadata": {
    "collapsed": false
   },
   "id": "5eb2b97da53cfd2c"
  },
  {
   "cell_type": "code",
   "outputs": [
    {
     "name": "stdout",
     "output_type": "stream",
     "text": [
      "(3081, 12) (308,) () (43,)\n",
      "<class 'pandas.core.frame.DataFrame'>\n",
      "<class 'numpy.ndarray'>\n",
      "0\n",
      "1\n",
      "2\n",
      "3\n",
      "4\n",
      "5\n",
      "6\n",
      "7\n",
      "8\n",
      "9\n",
      "10\n",
      "11\n",
      "12\n",
      "13\n",
      "14\n",
      "15\n",
      "16\n",
      "17\n",
      "18\n",
      "19\n",
      "20\n",
      "21\n",
      "22\n",
      "23\n",
      "24\n",
      "25\n",
      "26\n",
      "27\n",
      "28\n",
      "29\n",
      "30\n",
      "31\n",
      "32\n",
      "33\n",
      "34\n",
      "35\n",
      "36\n",
      "37\n",
      "38\n",
      "39\n",
      "40\n",
      "41\n",
      "42\n",
      "(43, 1, 3, 1, 3)\n"
     ]
    }
   ],
   "source": [
    "print(np.shape(CPTu_data), np.shape(l), np.shape(b), np.shape(RBC))\n",
    "\n",
    "print(type(CPTu_data))\n",
    "\n",
    "CPTu_data_np = CPTu_data.to_numpy()\n",
    "print(type(CPTu_data_np))\n",
    "\n",
    "outputs = []\n",
    "for i in range(len(RBC)):\n",
    "    print(i)\n",
    "    \n",
    "    temp_outputs = []\n",
    "\n",
    "    temp_RBC = RBC[i]\n",
    "\n",
    "    temp_outputs.append(s3_spec_bear_cap(CPTu_data_np, l, b, temp_RBC))\n",
    "\n",
    "    outputs.append(temp_outputs)\n",
    "\n",
    "print(np.shape(outputs))\n",
    "# print(outputs)\n",
    "\n",
    "# print(spec_bear_cap(CPTu_data_np, l, b, 200))\n",
    "# \n",
    "# print(np.shape(spec_bear_cap(CPTu_data_np, l, b, 200)))"
   ],
   "metadata": {
    "collapsed": false,
    "ExecuteTime": {
     "end_time": "2024-05-07T13:34:16.157478Z",
     "start_time": "2024-05-07T13:32:05.057982Z"
    }
   },
   "id": "d9742a63358e6696",
   "execution_count": 4
  },
  {
   "cell_type": "markdown",
   "source": [
    "## Changing Data Structure"
   ],
   "metadata": {
    "collapsed": false
   },
   "id": "5e9e5a620b88a543"
  },
  {
   "cell_type": "code",
   "outputs": [
    {
     "name": "stdout",
     "output_type": "stream",
     "text": [
      "(43, 3, 1, 3)\n",
      "[[[2.00000000e+02 1.00000000e-01 2.45739152e+02]]\n",
      "\n",
      " [[2.00000000e+02 9.00000000e-01 2.07448913e+02]]\n",
      "\n",
      " [[2.00000000e+02 1.50000000e+00 2.31491695e+02]]]\n"
     ]
    }
   ],
   "source": [
    "outputs_squeezed = np.squeeze(outputs, axis=1)\n",
    "\n",
    "print(np.shape(outputs_squeezed))\n",
    "print(outputs_squeezed[3])"
   ],
   "metadata": {
    "collapsed": false,
    "ExecuteTime": {
     "end_time": "2024-05-07T13:34:16.172645Z",
     "start_time": "2024-05-07T13:34:16.159480Z"
    }
   },
   "id": "b7763849e1882682",
   "execution_count": 5
  },
  {
   "cell_type": "markdown",
   "source": [
    "## Altering CPTu structure"
   ],
   "metadata": {
    "collapsed": false
   },
   "id": "7899b74549ea5b15"
  },
  {
   "cell_type": "code",
   "outputs": [
    {
     "name": "stdout",
     "output_type": "stream",
     "text": [
      "(3, 6162)\n",
      "<class 'list'>\n",
      "[0.   0.21 0.4  ... 0.   0.   0.  ]\n"
     ]
    }
   ],
   "source": [
    "columns_to_drop = [4 * i + j for i in range((CPTu_data.shape[1] // 4)) for j in range(2)]\n",
    "\n",
    "# Drop the columns\n",
    "CPTu_data_dropped = CPTu_data.drop(CPTu_data.columns[columns_to_drop], axis=1)\n",
    "\n",
    "# Flattening the remaining columns for each borehole group\n",
    "flattened_CPTu_groups = []\n",
    "for i in range(0, CPTu_data_dropped.shape[1], 2):  # Iterate over each pair of remaining columns\n",
    "    group = CPTu_data_dropped.iloc[:, i:i+2].values\n",
    "    flattened_group = np.concatenate(group.T)  # Flatten the group transposed to concatenate by columns\n",
    "    flattened_CPTu_groups.append(flattened_group)\n",
    "\n",
    "# Output the shape and type for confirmation\n",
    "print(np.shape(flattened_CPTu_groups))  # Expected shape: (no_BH, 20) if original was 10 samples per column\n",
    "print(type(flattened_CPTu_groups))\n",
    "print(flattened_CPTu_groups[0])"
   ],
   "metadata": {
    "collapsed": false,
    "ExecuteTime": {
     "end_time": "2024-05-07T13:34:16.232771Z",
     "start_time": "2024-05-07T13:34:16.174476Z"
    }
   },
   "id": "67c3b6c1092e62ae",
   "execution_count": 6
  },
  {
   "cell_type": "markdown",
   "source": [
    "## Export to CSV"
   ],
   "metadata": {
    "collapsed": false
   },
   "id": "f6dbc6843c9cedd4"
  },
  {
   "cell_type": "code",
   "outputs": [
    {
     "name": "stdout",
     "output_type": "stream",
     "text": [
      "129\n",
      "3\n",
      "0\n",
      "1\n",
      "2\n",
      "3\n",
      "4\n",
      "5\n",
      "6\n",
      "7\n",
      "8\n",
      "9\n",
      "10\n",
      "11\n",
      "12\n",
      "13\n",
      "14\n",
      "15\n",
      "16\n",
      "17\n",
      "18\n",
      "19\n",
      "20\n",
      "21\n",
      "22\n",
      "23\n",
      "24\n",
      "25\n",
      "26\n",
      "27\n",
      "28\n",
      "29\n",
      "30\n",
      "31\n",
      "32\n",
      "33\n",
      "34\n",
      "35\n",
      "36\n",
      "37\n",
      "38\n",
      "39\n",
      "40\n",
      "41\n",
      "42\n",
      "CSV file has been created with the shape: (129, 6164)\n"
     ]
    }
   ],
   "source": [
    "# Setup the columns for DataFrame\n",
    "columns = ['RBC'] + [f'CPTu_{i}' for i in range(1, 6163)] + ['Optim_L']\n",
    "\n",
    "# Calculate the total number of rows in the final DataFrame\n",
    "total_rows = len(RBC) * (CPTu_data.shape[1] //4)\n",
    "print(total_rows)\n",
    "\n",
    "# Pre-allocate a numpy array for all data\n",
    "data_array = np.empty((total_rows, len(columns)))\n",
    "\n",
    "print(CPTu_data.shape[1] //4)\n",
    "\n",
    "# Fill the data array\n",
    "current_row = 0\n",
    "for i in range(len(RBC)):\n",
    "    print(i)\n",
    "    for j in range(CPTu_data.shape[1] // 4):\n",
    "        # Each row is Length + Flattened CPTU data + Output\n",
    "        data_array[current_row, 0] = RBC[i]\n",
    "        data_array[current_row, 1:6163] = flattened_CPTu_groups[j]\n",
    "        data_array[current_row, 6163] = outputs_squeezed[i][j][0][1] \n",
    "        current_row += 1\n",
    "\n",
    "# Create a DataFrame from the numpy array\n",
    "df = pd.DataFrame(data_array, columns=columns)\n",
    "\n",
    "# Save the DataFrame to a CSV file\n",
    "df.to_csv('Stage_3_vald_merged_reduced.csv', index=False)\n",
    "print(\"CSV file has been created with the shape:\", df.shape)\n"
   ],
   "metadata": {
    "collapsed": false,
    "ExecuteTime": {
     "end_time": "2024-05-07T13:34:16.764074Z",
     "start_time": "2024-05-07T13:34:16.234378Z"
    }
   },
   "id": "96b2f65835d8bcb5",
   "execution_count": 7
  },
  {
   "cell_type": "code",
   "outputs": [],
   "source": [
    "## PLotting a graph with validating and testing data"
   ],
   "metadata": {
    "collapsed": false,
    "ExecuteTime": {
     "end_time": "2024-05-07T13:34:16.779081Z",
     "start_time": "2024-05-07T13:34:16.765679Z"
    }
   },
   "id": "9eed0dac72d29a0d",
   "execution_count": 7
  }
 ],
 "metadata": {
  "kernelspec": {
   "display_name": "Python 3",
   "language": "python",
   "name": "python3"
  },
  "language_info": {
   "codemirror_mode": {
    "name": "ipython",
    "version": 2
   },
   "file_extension": ".py",
   "mimetype": "text/x-python",
   "name": "python",
   "nbconvert_exporter": "python",
   "pygments_lexer": "ipython2",
   "version": "2.7.6"
  }
 },
 "nbformat": 4,
 "nbformat_minor": 5
}
