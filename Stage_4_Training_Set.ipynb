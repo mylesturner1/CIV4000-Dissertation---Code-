{
 "cells": [
  {
   "cell_type": "markdown",
   "source": [
    "## Generating Training Sest for Stage 4\n",
    "\n",
    "Fixed: Depth Increments (0.01 m)\n",
    "\n",
    "Variables (Inputs) : CPTu Dataset, RBC\n",
    "\n",
    "Output : Optimised Volume (Minimum Volume for said Capacity)"
   ],
   "metadata": {
    "collapsed": false
   },
   "id": "104065bbbb25b319"
  },
  {
   "cell_type": "code",
   "outputs": [
    {
     "name": "stdout",
     "output_type": "stream",
     "text": [
      "Using device: cuda\n"
     ]
    }
   ],
   "source": [
    "import torch\n",
    "from Functions_CPTu_Cap_Copy import *\n",
    "from itertools import product\n",
    "\n",
    "import torch\n",
    "\n",
    "# Set the device to GPU if CUDA is available, otherwise use CPU\n",
    "device = torch.device(\"cuda\" if torch.cuda.is_available() else \"cpu\")\n",
    "print(\"Using device:\", device)\n"
   ],
   "metadata": {
    "collapsed": false,
    "ExecuteTime": {
     "end_time": "2024-05-08T10:11:44.670795Z",
     "start_time": "2024-05-08T10:11:44.648685Z"
    }
   },
   "id": "6e9f1352d1ae04ce",
   "execution_count": 7
  },
  {
   "cell_type": "markdown",
   "source": [
    "## Importing CPTu Datasets"
   ],
   "metadata": {
    "collapsed": false
   },
   "id": "d7d9b9c9722a6851"
  },
  {
   "cell_type": "code",
   "outputs": [
    {
     "name": "stdout",
     "output_type": "stream",
     "text": [
      "(3081, 12)\n",
      "<class 'pandas.core.frame.DataFrame'>\n",
      "3\n"
     ]
    }
   ],
   "source": [
    "import pandas as pd\n",
    "import numpy as np\n",
    "## \n",
    "# \n",
    "# CPTu_data = pd.read_csv('CPTu_train_set.csv', header=None, skiprows=1)\n",
    "CPTu_data = pd.read_csv('CPTu_val_set.csv', header=None, skiprows=1)\n",
    "# CPTu_data = pd.read_csv('CPTu_test_set.csv', header=None, skiprows=1)\n",
    "\n",
    "print(np.shape(CPTu_data))\n",
    "print(type(CPTu_data))\n",
    "print(CPTu_data.shape[1] // 4)"
   ],
   "metadata": {
    "collapsed": false,
    "ExecuteTime": {
     "end_time": "2024-05-08T09:57:58.375733Z",
     "start_time": "2024-05-08T09:57:58.347731Z"
    }
   },
   "id": "e71d530f7629e3d0",
   "execution_count": 2
  },
  {
   "cell_type": "markdown",
   "source": [
    "## Creating Length, Diameter and RBC Inputs"
   ],
   "metadata": {
    "collapsed": false
   },
   "id": "aeb54d44da80d610"
  },
  {
   "cell_type": "code",
   "outputs": [
    {
     "name": "stdout",
     "output_type": "stream",
     "text": [
      "(43,)\n"
     ]
    }
   ],
   "source": [
    "l = np.arange(0.1, 30.81, 0.1)\n",
    "\n",
    "RBC = np.arange(50, 2200, 50) # 10 values - when interval 200\n",
    "b = np.arange(0.4, 1.6, 0.1) # 7 values\n",
    "\n",
    "\n",
    "print(np.shape(RBC))\n",
    "# zip = list(product(RBC, b))\n",
    "# print((zip[:50]))\n",
    "# print(zip[10][1])\n",
    "# print(len(zip))\n",
    "\n",
    "# print(zip[1][0])"
   ],
   "metadata": {
    "collapsed": false,
    "ExecuteTime": {
     "end_time": "2024-05-08T09:57:58.391286Z",
     "start_time": "2024-05-08T09:57:58.377737Z"
    }
   },
   "id": "8c34f5e750d289d3",
   "execution_count": 3
  },
  {
   "cell_type": "markdown",
   "source": [
    "## Implementing Training Loop"
   ],
   "metadata": {
    "collapsed": false
   },
   "id": "dacbe3851523925e"
  },
  {
   "cell_type": "code",
   "outputs": [
    {
     "name": "stdout",
     "output_type": "stream",
     "text": [
      "(3081, 12) (308,) (13,) (43,)\n",
      "<class 'pandas.core.frame.DataFrame'>\n",
      "<class 'numpy.ndarray'>\n",
      "0\n",
      "50\n",
      "1\n",
      "100\n",
      "2\n",
      "150\n",
      "3\n",
      "200\n",
      "4\n",
      "250\n",
      "5\n",
      "300\n",
      "6\n",
      "350\n",
      "7\n",
      "400\n",
      "8\n",
      "450\n",
      "9\n",
      "500\n",
      "10\n",
      "550\n",
      "11\n",
      "600\n",
      "12\n",
      "650\n",
      "13\n",
      "700\n",
      "14\n",
      "750\n",
      "15\n",
      "800\n",
      "16\n",
      "850\n",
      "17\n",
      "900\n",
      "18\n",
      "950\n",
      "19\n",
      "1000\n",
      "20\n",
      "1050\n",
      "21\n",
      "1100\n",
      "22\n",
      "1150\n",
      "23\n",
      "1200\n",
      "24\n",
      "1250\n",
      "25\n",
      "1300\n",
      "26\n",
      "1350\n",
      "27\n",
      "1400\n",
      "28\n",
      "1450\n",
      "29\n",
      "1500\n",
      "30\n",
      "1550\n",
      "31\n",
      "1600\n",
      "32\n",
      "1650\n",
      "33\n",
      "1700\n",
      "34\n",
      "1750\n",
      "35\n",
      "1800\n",
      "36\n",
      "1850\n",
      "37\n",
      "1900\n",
      "38\n",
      "1950\n",
      "39\n",
      "2000\n",
      "40\n",
      "2050\n",
      "41\n",
      "2100\n",
      "42\n",
      "2150\n",
      "(43, 1, 3, 1, 4)\n"
     ]
    }
   ],
   "source": [
    "print(np.shape(CPTu_data), np.shape(l), np.shape(b), np.shape(RBC))\n",
    "\n",
    "print(type(CPTu_data))\n",
    "\n",
    "CPTu_data_np = CPTu_data.to_numpy()\n",
    "print(type(CPTu_data_np))\n",
    "\n",
    "# Assuming CPTu_data, l, b, RBC are already loaded as NumPy arrays or similar\n",
    "CPTu_data_tensor = torch.tensor(CPTu_data_np, dtype=torch.float32).to(device)\n",
    "l_tensor = torch.tensor(l, dtype=torch.float32).to(device)\n",
    "b_tensor = torch.tensor(b, dtype=torch.float32).to(device)\n",
    "RBC_tensor = torch.tensor(RBC, dtype=torch.float32).to(device)\n",
    "\n",
    "\n",
    "outputs = []\n",
    "for i in range(len(RBC)):\n",
    "    print(i)\n",
    "    \n",
    "    temp_outputs = []\n",
    "\n",
    "    temp_RBC = RBC[i]\n",
    "\n",
    "    print(temp_RBC)\n",
    "    temp_outputs.append(s4_spec_bear_cap(CPTu_data_np, l, b, temp_RBC))\n",
    "\n",
    "    outputs.append(temp_outputs)\n",
    "\n",
    "print(np.shape(outputs))\n",
    "# print(outputs)\n",
    "\n",
    "# print(spec_bear_cap(CPTu_data_np, l, b, 200))\n",
    "# \n",
    "# print(np.shape(spec_bear_cap(CPTu_data_np, l, b, 200)))"
   ],
   "metadata": {
    "collapsed": false,
    "ExecuteTime": {
     "end_time": "2024-05-08T10:48:24.760888Z",
     "start_time": "2024-05-08T10:11:49.254040Z"
    }
   },
   "id": "8040f1598e2aca1c",
   "execution_count": 8
  },
  {
   "cell_type": "markdown",
   "source": [
    "## Changing Data Structure"
   ],
   "metadata": {
    "collapsed": false
   },
   "id": "3ba817a8a8ac8c0"
  },
  {
   "cell_type": "code",
   "outputs": [
    {
     "ename": "AttributeError",
     "evalue": "'list' object has no attribute 'cpu'",
     "output_type": "error",
     "traceback": [
      "\u001B[1;31m---------------------------------------------------------------------------\u001B[0m",
      "\u001B[1;31mAttributeError\u001B[0m                            Traceback (most recent call last)",
      "Cell \u001B[1;32mIn[9], line 1\u001B[0m\n\u001B[1;32m----> 1\u001B[0m outputs \u001B[38;5;241m=\u001B[39m [output\u001B[38;5;241m.\u001B[39mcpu()\u001B[38;5;241m.\u001B[39mnumpy() \u001B[38;5;28;01mfor\u001B[39;00m output \u001B[38;5;129;01min\u001B[39;00m outputs]  \u001B[38;5;66;03m# Assuming outputs is a list of tensors\u001B[39;00m\n\u001B[0;32m      2\u001B[0m \u001B[38;5;28mprint\u001B[39m(np\u001B[38;5;241m.\u001B[39mshape(outputs))\n",
      "Cell \u001B[1;32mIn[9], line 1\u001B[0m, in \u001B[0;36m<listcomp>\u001B[1;34m(.0)\u001B[0m\n\u001B[1;32m----> 1\u001B[0m outputs \u001B[38;5;241m=\u001B[39m [\u001B[43moutput\u001B[49m\u001B[38;5;241;43m.\u001B[39;49m\u001B[43mcpu\u001B[49m()\u001B[38;5;241m.\u001B[39mnumpy() \u001B[38;5;28;01mfor\u001B[39;00m output \u001B[38;5;129;01min\u001B[39;00m outputs]  \u001B[38;5;66;03m# Assuming outputs is a list of tensors\u001B[39;00m\n\u001B[0;32m      2\u001B[0m \u001B[38;5;28mprint\u001B[39m(np\u001B[38;5;241m.\u001B[39mshape(outputs))\n",
      "\u001B[1;31mAttributeError\u001B[0m: 'list' object has no attribute 'cpu'"
     ]
    }
   ],
   "source": [
    "outputs = [output.cpu().numpy() for output in outputs]  # Assuming outputs is a list of tensors\n",
    "print(np.shape(outputs))"
   ],
   "metadata": {
    "collapsed": false,
    "ExecuteTime": {
     "end_time": "2024-05-08T10:50:01.500829Z",
     "start_time": "2024-05-08T10:50:01.470408Z"
    }
   },
   "id": "1cf91d139d7789e6",
   "execution_count": 9
  },
  {
   "cell_type": "code",
   "outputs": [
    {
     "name": "stdout",
     "output_type": "stream",
     "text": [
      "(43, 3, 1, 4)\n",
      "[[[200.           0.3          0.4        213.50472843]]\n",
      "\n",
      " [[200.           1.2          0.4        205.04285551]]\n",
      "\n",
      " [[200.           1.8          0.4        211.75526405]]]\n"
     ]
    }
   ],
   "source": [
    "outputs_squeezed = np.squeeze(outputs, axis=1)\n",
    "\n",
    "print(np.shape(outputs_squeezed))\n",
    "print(outputs_squeezed[3])"
   ],
   "metadata": {
    "collapsed": false,
    "ExecuteTime": {
     "end_time": "2024-05-08T10:50:07.980047Z",
     "start_time": "2024-05-08T10:50:07.973016Z"
    }
   },
   "id": "d1dda179cc905c36",
   "execution_count": 10
  },
  {
   "cell_type": "markdown",
   "source": [
    "## Altering CPTu Structure"
   ],
   "metadata": {
    "collapsed": false
   },
   "id": "35088eef2bb58b38"
  },
  {
   "cell_type": "code",
   "outputs": [
    {
     "name": "stdout",
     "output_type": "stream",
     "text": [
      "(3, 6162)\n",
      "<class 'list'>\n",
      "[0.   0.21 0.4  ... 0.   0.   0.  ]\n"
     ]
    }
   ],
   "source": [
    "columns_to_drop = [4 * i + j for i in range((CPTu_data.shape[1] // 4)) for j in range(2)]\n",
    "\n",
    "# Drop the columns\n",
    "CPTu_data_dropped = CPTu_data.drop(CPTu_data.columns[columns_to_drop], axis=1)\n",
    "\n",
    "# Flattening the remaining columns for each borehole group\n",
    "flattened_CPTu_groups = []\n",
    "for i in range(0, CPTu_data_dropped.shape[1], 2):  # Iterate over each pair of remaining columns\n",
    "    group = CPTu_data_dropped.iloc[:, i:i+2].values\n",
    "    flattened_group = np.concatenate(group.T)  # Flatten the group transposed to concatenate by columns\n",
    "    flattened_CPTu_groups.append(flattened_group)\n",
    "\n",
    "# Output the shape and type for confirmation\n",
    "print(np.shape(flattened_CPTu_groups))  # Expected shape: (no_BH, 20) if original was 10 samples per column\n",
    "print(type(flattened_CPTu_groups))\n",
    "print(flattened_CPTu_groups[0])"
   ],
   "metadata": {
    "collapsed": false,
    "ExecuteTime": {
     "end_time": "2024-05-08T10:50:11.642214Z",
     "start_time": "2024-05-08T10:50:11.620695Z"
    }
   },
   "id": "85235ddae991cd13",
   "execution_count": 11
  },
  {
   "cell_type": "markdown",
   "source": [
    "## Export to CSV"
   ],
   "metadata": {
    "collapsed": false
   },
   "id": "24ec13586ecbb194"
  },
  {
   "cell_type": "code",
   "outputs": [
    {
     "name": "stdout",
     "output_type": "stream",
     "text": [
      "3\n",
      "0\n",
      "1\n",
      "2\n",
      "3\n",
      "4\n",
      "5\n",
      "6\n",
      "7\n",
      "8\n",
      "9\n",
      "10\n",
      "11\n",
      "12\n",
      "13\n",
      "14\n",
      "15\n",
      "16\n",
      "17\n",
      "18\n",
      "19\n",
      "20\n",
      "21\n",
      "22\n",
      "23\n",
      "24\n",
      "25\n",
      "26\n",
      "27\n",
      "28\n",
      "29\n",
      "30\n",
      "31\n",
      "32\n",
      "33\n",
      "34\n",
      "35\n",
      "36\n",
      "37\n",
      "38\n",
      "39\n",
      "40\n",
      "41\n",
      "42\n",
      "CSV file has been created with the shape: (129, 6166)\n"
     ]
    }
   ],
   "source": [
    "# Setup the columns for DataFrame\n",
    "columns = ['RBC'] + [f'CPTu_{i}' for i in range(1, 6163)] + ['Optim_L'] + ['Optim_b'] + ['Actual_Cap']\n",
    "\n",
    "# Calculate the total number of rows in the final DataFrame\n",
    "total_rows = len(RBC) * (CPTu_data.shape[1] //4)\n",
    "\n",
    "# Pre-allocate a numpy array for all data\n",
    "data_array = np.empty((total_rows, len(columns)))\n",
    "\n",
    "print(CPTu_data.shape[1] //4)\n",
    "\n",
    "# Fill the data array\n",
    "current_row = 0\n",
    "for i in range(len(RBC)):\n",
    "    print(i)\n",
    "    for j in range(CPTu_data.shape[1] // 4):\n",
    "        # Each row is Length + Flattened CPTU data + Output\n",
    "        data_array[current_row, 0] = outputs_squeezed[i][j][0][0]\n",
    "        data_array[current_row, 1:6163] = flattened_CPTu_groups[j]\n",
    "        data_array[current_row, 6163] = outputs_squeezed[i][j][0][1] \n",
    "        data_array[current_row, 6164] = outputs_squeezed[i][j][0][2]\n",
    "        data_array[current_row, 6165] = outputs_squeezed[i][j][0][3]\n",
    "        current_row += 1\n",
    "\n",
    "# Create a DataFrame from the numpy array\n",
    "df = pd.DataFrame(data_array, columns=columns)\n",
    "\n",
    "# Save the DataFrame to a CSV file\n",
    "df.to_csv('Stage_4_vald_merged_reduced.csv', index=False)\n",
    "print(\"CSV file has been created with the shape:\", df.shape)\n"
   ],
   "metadata": {
    "collapsed": false,
    "ExecuteTime": {
     "end_time": "2024-05-08T10:50:15.342540Z",
     "start_time": "2024-05-08T10:50:14.801849Z"
    }
   },
   "id": "2b65bb9cf2870dce",
   "execution_count": 12
  },
  {
   "cell_type": "code",
   "outputs": [],
   "source": [
    "### Check CSV files as they seem to appended with a lot of zeros at the bottom"
   ],
   "metadata": {
    "collapsed": false
   },
   "id": "ab9fd6935766ca02",
   "execution_count": null
  }
 ],
 "metadata": {
  "kernelspec": {
   "display_name": "Python 3",
   "language": "python",
   "name": "python3"
  },
  "language_info": {
   "codemirror_mode": {
    "name": "ipython",
    "version": 2
   },
   "file_extension": ".py",
   "mimetype": "text/x-python",
   "name": "python",
   "nbconvert_exporter": "python",
   "pygments_lexer": "ipython2",
   "version": "2.7.6"
  }
 },
 "nbformat": 4,
 "nbformat_minor": 5
}
