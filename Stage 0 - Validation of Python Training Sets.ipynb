{
 "cells": [
  {
   "cell_type": "markdown",
   "source": [
    "## Validating Training Sets \n",
    "\n",
    "This code compares the correlation values from the Validation Excel Sheet calculations\n",
    "\n",
    "Stages 1 - 4 of python datasets will be compared with excel datasets\n",
    "\n",
    "Stage 5 doesnt need to be verified as it uses Satge 1 code\n",
    "\n"
   ],
   "metadata": {
    "collapsed": false
   },
   "id": "6d393d4c717b80e5"
  },
  {
   "cell_type": "markdown",
   "source": [
    "## Importing datasets"
   ],
   "metadata": {
    "collapsed": false
   },
   "id": "89a5d61114ae7bfd"
  },
  {
   "cell_type": "markdown",
   "source": [
    "## Stage 1 Data Val"
   ],
   "metadata": {
    "collapsed": false
   },
   "id": "cc7c231403d2a706"
  },
  {
   "cell_type": "code",
   "outputs": [
    {
     "name": "stdout",
     "output_type": "stream",
     "text": [
      "            0.10\n",
      "11     12.163108\n",
      "12    118.936772\n",
      "13    194.563923\n",
      "14    314.491367\n",
      "15    395.142540\n",
      "..           ...\n",
      "303  2623.182968\n",
      "304  2623.182968\n",
      "305  2623.182968\n",
      "306  2623.182968\n",
      "307  2623.182968\n",
      "\n",
      "[297 rows x 1 columns]\n",
      "<class 'pandas.core.frame.DataFrame'>\n",
      "        0.0.2292\n",
      "11     12.277941\n",
      "12    116.843415\n",
      "13    194.661632\n",
      "14    311.200436\n",
      "15    393.490414\n",
      "..           ...\n",
      "303  2623.182968\n",
      "304  2623.182968\n",
      "305  2623.182968\n",
      "306  2623.182968\n",
      "307  2623.182968\n",
      "\n",
      "[297 rows x 1 columns]\n",
      "<class 'pandas.core.frame.DataFrame'>\n"
     ]
    }
   ],
   "source": [
    "import pandas as pd\n",
    "\n",
    "file_path = 'Validation of Calcs.xlsx'  # Update with the actual path to your CSV file\n",
    "row_indices = list(range(4, 3085, 10))  # 4945 is the total rows, and row 6 is where the first target is\n",
    "try:\n",
    "    S1_excel_calc = pd.read_excel(\n",
    "        file_path,\n",
    "        sheet_name='Stage 1 - Complex',\n",
    "        usecols=[10],  # Ensure 'ICB' is the correct column name\n",
    "        skiprows=lambda x: x not in row_indices)\n",
    "    # print(S1_excel_calc.head())\n",
    "except Exception as e:\n",
    "    # If an exception occurs, print the error message\n",
    "    print(f\"Error: {e}\")\n",
    "\n",
    "S1_excel_calc = S1_excel_calc.iloc[11:]\n",
    "print(S1_excel_calc)\n",
    "print(type(S1_excel_calc))\n",
    "\n",
    "\n",
    "\n",
    "\n",
    "\n",
    "file_path = 'Stage_1_traind_merged_reduced.csv'  # Update with the actual path to your CSV file\n",
    "row_indices = list(range(12, 4945, 16))  # 4945 is the total rows, and row 6 is where the first target is\n",
    "\n",
    "try:\n",
    "    # Read the CSV file with specified rows and column\n",
    "    S1_code_calc = pd.read_csv(\n",
    "        file_path,\n",
    "        usecols=[6163],  # Ensure 'ICB' is the correct column name\n",
    "        skiprows=lambda x: x not in row_indices\n",
    "    )\n",
    "\n",
    "    # print(S1_code_calc.head())\n",
    "except Exception as e:\n",
    "    # If an exception occurs, print the error message\n",
    "    print(f\"Error: {e}\")\n",
    "\n",
    "    \n",
    "S1_code_calc = S1_code_calc.iloc[11:]  # Skip the first 124 rows, keep the rest\n",
    "print(S1_code_calc)\n",
    "print(type(S1_code_calc))"
   ],
   "metadata": {
    "collapsed": false,
    "ExecuteTime": {
     "end_time": "2024-05-19T15:37:25.442549Z",
     "start_time": "2024-05-19T15:37:23.039596Z"
    }
   },
   "id": "9d4b5c5104d2f087",
   "execution_count": 1
  },
  {
   "cell_type": "markdown",
   "source": [
    "## Satge 1 - Correlation Values"
   ],
   "metadata": {
    "collapsed": false
   },
   "id": "10081e1fc01206af"
  },
  {
   "cell_type": "code",
   "outputs": [
    {
     "name": "stdout",
     "output_type": "stream",
     "text": [
      "R² Score: 0.9999862233903194\n",
      "Mean Squared Error: 4.931752953495526\n",
      "Realtive Error (%): 0.06262072386325152\n"
     ]
    }
   ],
   "source": [
    "import numpy as np\n",
    "from sklearn.metrics import r2_score, mean_squared_error\n",
    "\n",
    "# Assuming S1_code_calc and S1_excel_calc are pandas DataFrame objects with the target column correctly isolated\n",
    "# Example: assuming 'target_column_name' is the name of your target column in both dataframes\n",
    "\n",
    "# Ensure you are extracting the column as a numpy array\n",
    "y_true = S1_code_calc.values  # Replace 'target_column_name' with the actual column name\n",
    "y_pred = S1_excel_calc.values  # Do the same here\n",
    "\n",
    "# Define the correlation metrics function\n",
    "def calculate_correlation_metrics(y_true, y_pred):\n",
    "    r2 = r2_score(y_true, y_pred)\n",
    "    mse = mean_squared_error(y_true, y_pred)\n",
    "    epsilon = 1e-8\n",
    "    re = np.mean(np.abs((y_true - y_pred) / (y_true + epsilon))) * 100\n",
    "    return r2, mse, re\n",
    "\n",
    "# Calculate and print the metrics\n",
    "r2, mse, re = calculate_correlation_metrics(y_true, y_pred)\n",
    "print(\"R² Score:\", r2)\n",
    "print(\"Mean Squared Error:\", mse)\n",
    "print(\"Realtive Error (%):\", re)\n"
   ],
   "metadata": {
    "collapsed": false,
    "ExecuteTime": {
     "end_time": "2024-05-19T15:37:26.018696Z",
     "start_time": "2024-05-19T15:37:25.446421Z"
    }
   },
   "id": "d6360fe7233e2da5",
   "execution_count": 2
  },
  {
   "cell_type": "markdown",
   "source": [
    "## Stage 2 - Validation"
   ],
   "metadata": {
    "collapsed": false
   },
   "id": "7b05dc2e8218181c"
  },
  {
   "cell_type": "code",
   "outputs": [
    {
     "name": "stdout",
     "output_type": "stream",
     "text": [
      "            0.10\n",
      "11     45.877005\n",
      "12    419.917215\n",
      "13    646.649587\n",
      "14    988.759196\n",
      "15   1180.177936\n",
      "..           ...\n",
      "303  6557.957420\n",
      "304  6557.957420\n",
      "305  6557.957420\n",
      "306  6557.957420\n",
      "307  6557.957420\n",
      "\n",
      "[297 rows x 1 columns]\n",
      "<class 'pandas.core.frame.DataFrame'>\n",
      "Empty DataFrame\n",
      "Columns: []\n",
      "Index: []\n",
      "        0.0.2292\n",
      "11     45.877005\n",
      "12    414.683824\n",
      "13    642.301623\n",
      "14    980.531868\n",
      "15   1176.047622\n",
      "..           ...\n",
      "303  6557.957420\n",
      "304  6557.957420\n",
      "305  6557.957420\n",
      "306  6557.957420\n",
      "307  6557.957420\n",
      "\n",
      "[297 rows x 1 columns]\n",
      "<class 'pandas.core.frame.DataFrame'>\n"
     ]
    }
   ],
   "source": [
    "import pandas as pd\n",
    "\n",
    "file_path = 'Validation of Calcs.xlsx'  # Update with the actual path to your CSV file\n",
    "row_indices = list(range(4, 3085, 10))  # 4945 is the total rows, and row 6 is where the first target is\n",
    "try:\n",
    "    S2_excel_calc = pd.read_excel(\n",
    "        file_path,\n",
    "        sheet_name='Stage 2 - Complex',\n",
    "        usecols=[10],  # Ensure 'ICB' is the correct column name\n",
    "        skiprows=lambda x: x not in row_indices)\n",
    "    # print(S1_excel_calc.head())\n",
    "except Exception as e:\n",
    "    # If an exception occurs, print the error message\n",
    "    print(f\"Error: {e}\")\n",
    "\n",
    "S2_excel_calc = S2_excel_calc.iloc[11:]\n",
    "print(S2_excel_calc)\n",
    "print(type(S2_excel_calc))\n",
    "\n",
    "\n",
    "\n",
    "\n",
    "file_path = 'Stage_2_traind_merged_reduced3.csv'  # Replace 'your_file.csv' with the actual file path\n",
    "data = pd.read_csv(file_path, usecols=[])\n",
    "print(data)\n",
    "\n",
    "\n",
    "\n",
    "\n",
    "file_path = 'Stage_2_traind_merged_reduced3.csv'  # Update with the actual path to your CSV file\n",
    "row_indices = list(range(1 + (4635*11) + (8*309), 1 + (4635*11) + (8*309) + 309, 1))  # 4945 is the total rows, and row 6 is where the first target is\n",
    "\n",
    "try:\n",
    "    # Read the CSV file with specified rows and column\n",
    "    S2_code_calc = pd.read_csv(\n",
    "        file_path,\n",
    "        usecols=[6164],  # Ensure 'ICB' is the correct column name\n",
    "        skiprows=lambda x: x not in row_indices\n",
    "    )\n",
    "\n",
    "    # print(S1_code_calc.head())\n",
    "except Exception as e:\n",
    "    # If an exception occurs, print the error message\n",
    "    print(f\"Error: {e}\")\n",
    "\n",
    "    \n",
    "S2_code_calc = S2_code_calc.iloc[11:]  # Skip the first 124 rows, keep the rest\n",
    "print(S2_code_calc)\n",
    "print(type(S2_code_calc))"
   ],
   "metadata": {
    "collapsed": false,
    "ExecuteTime": {
     "end_time": "2024-05-19T16:18:37.735695Z",
     "start_time": "2024-05-19T16:18:30.238109Z"
    }
   },
   "id": "243f622013c821d2",
   "execution_count": 4
  },
  {
   "cell_type": "markdown",
   "source": [
    "## Stage 2 - Correlation Values"
   ],
   "metadata": {
    "collapsed": false
   },
   "id": "a13c21b406d204a6"
  },
  {
   "cell_type": "code",
   "outputs": [
    {
     "name": "stdout",
     "output_type": "stream",
     "text": [
      "R² Score: 0.9999890721818899\n",
      "Mean Squared Error: 42.77220850342039\n",
      "Realtive Error (%): 0.048198571223031055\n"
     ]
    }
   ],
   "source": [
    "import numpy as np\n",
    "from sklearn.metrics import r2_score, mean_squared_error\n",
    "\n",
    "# Assuming S1_code_calc and S1_excel_calc are pandas DataFrame objects with the target column correctly isolated\n",
    "# Example: assuming 'target_column_name' is the name of your target column in both dataframes\n",
    "\n",
    "# Ensure you are extracting the column as a numpy array\n",
    "y_true = S2_code_calc.values  # Replace 'target_column_name' with the actual column name\n",
    "y_pred = S2_excel_calc.values  # Do the same here\n",
    "\n",
    "# Define the correlation metrics function\n",
    "def calculate_correlation_metrics(y_true, y_pred):\n",
    "    r2 = r2_score(y_true, y_pred)\n",
    "    mse = mean_squared_error(y_true, y_pred)\n",
    "    epsilon = 1e-8\n",
    "    re = np.mean(np.abs((y_true - y_pred) / (y_true + epsilon))) * 100\n",
    "    return r2, mse, re\n",
    "\n",
    "# Calculate and print the metrics\n",
    "r2, mse, re = calculate_correlation_metrics(y_true, y_pred)\n",
    "print(\"R² Score:\", r2)\n",
    "print(\"Mean Squared Error:\", mse)\n",
    "print(\"Realtive Error (%):\", re)\n"
   ],
   "metadata": {
    "collapsed": false,
    "ExecuteTime": {
     "end_time": "2024-05-19T16:18:40.620072Z",
     "start_time": "2024-05-19T16:18:39.573434Z"
    }
   },
   "id": "c00c9c202201282c",
   "execution_count": 5
  }
 ],
 "metadata": {
  "kernelspec": {
   "display_name": "Python 3",
   "language": "python",
   "name": "python3"
  },
  "language_info": {
   "codemirror_mode": {
    "name": "ipython",
    "version": 2
   },
   "file_extension": ".py",
   "mimetype": "text/x-python",
   "name": "python",
   "nbconvert_exporter": "python",
   "pygments_lexer": "ipython2",
   "version": "2.7.6"
  }
 },
 "nbformat": 4,
 "nbformat_minor": 5
}
